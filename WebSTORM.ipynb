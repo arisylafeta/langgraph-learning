{
 "cells": [
  {
   "cell_type": "code",
   "execution_count": 59,
   "metadata": {},
   "outputs": [],
   "source": [
    "import os\n",
    "from dotenv import load_dotenv\n",
    "\n",
    "load_dotenv()\n",
    "os.environ['GROQ_API_KEY'] = os.getenv('GROQ_API_KEY')\n",
    "os.environ[\"LANGCHAIN_TRACING_V2\"] = \"true\"\n",
    "os.environ[\"LANGCHAIN_ENDPOINT\"] = \"https://api.smith.langchain.com\"\n",
    "os.environ[\"LANGCHAIN_API_KEY\"] = os.getenv(\"LANGCHAIN_API_KEY\")\n",
    "os.environ[\"LANGCHAIN_PROJECT\"] = \"Web STORM\"\n",
    "os.environ[\"OPENAI_API_KEY\"] = os.getenv(\"OPENAI_API_KEY\")\n",
    "os.environ['TAVILY_API_KEY'] = os.getenv('TAVILY_API_KEY')"
   ]
  },
  {
   "cell_type": "code",
   "execution_count": 60,
   "metadata": {},
   "outputs": [],
   "source": [
    "from langchain_openai import ChatOpenAI\n",
    "\n",
    "fast_llm = ChatOpenAI(model=\"gpt-4o-mini\")\n",
    "# Uncomment for a Fireworks model\n",
    "# fast_llm = ChatFireworks(model=\"accounts/fireworks/models/firefunction-v1\", max_tokens=32_000)\n",
    "long_context_llm = ChatOpenAI(model=\"gpt-4o\")"
   ]
  },
  {
   "cell_type": "markdown",
   "metadata": {},
   "source": [
    "#### Generate Initial Outline"
   ]
  },
  {
   "cell_type": "code",
   "execution_count": 61,
   "metadata": {},
   "outputs": [],
   "source": [
    "from typing import List, Optional\n",
    "from langchain_core.prompts import ChatPromptTemplate\n",
    "\n",
    "from pydantic import BaseModel, Field\n",
    "\n",
    "direct_gen_outline_prompt = ChatPromptTemplate.from_messages(\n",
    "    [\n",
    "        (\n",
    "            \"system\",\n",
    "            \"You are a Wikipedia writer. Write an outline for a Wikipedia page about a user-provided topic. Be comprehensive and specific.\",\n",
    "        ),\n",
    "        (\"user\", \"{topic}\"),\n",
    "    ]\n",
    ")\n",
    "\n",
    "class Subsection(BaseModel):\n",
    "    subsection_title: str = Field(..., title=\"Title of the subsection\")\n",
    "    description: str = Field(..., title=\"Content of the subsection\")\n",
    "    \n",
    "    @property\n",
    "    def as_str(self) -> str:\n",
    "        return f\"### {self.subsection_title}\\n\\n{self.description}\".strip()\n",
    "    \n",
    "class Section(BaseModel):\n",
    "    section_title: str = Field(..., title=\"Title of the section\")\n",
    "    description: str = Field(..., title=\"Content of the section\")\n",
    "    subsections: Optional[List[Subsection]] = Field(\n",
    "        default=None,\n",
    "        title=\"Titles and descriptions for each subsection of the Wikipedia page.\",\n",
    "    )\n",
    "\n",
    "    \n",
    "    @property\n",
    "    def as_str(self) -> str:\n",
    "        subsections = \"\\n\\n\".join(\n",
    "            f\"### {subsection.subsection_title}\\n\\n{subsection.description}\"\n",
    "            for subsection in self.subsections or []\n",
    "        )\n",
    "        return f\"## {self.section_title}\\n\\n{self.description}\\n\\n{subsections}\".strip()\n",
    "    \n",
    "class Outline(BaseModel):\n",
    "    page_title: str = Field(..., title=\"Title of the Wikipedia page\")\n",
    "    sections: List[Section] = Field(\n",
    "        default_factory=list,\n",
    "        title=\"Titles and descriptions for each section of the Wikipedia page.\",\n",
    "    )\n",
    "\n",
    "    @property\n",
    "    def as_str(self) -> str:\n",
    "        sections = \"\\n\\n\".join(section.as_str for section in self.sections)\n",
    "        return f\"# {self.page_title}\\n\\n{sections}\".strip()\n",
    "\n",
    "\n",
    "generate_outline_direct = direct_gen_outline_prompt | fast_llm.with_structured_output(\n",
    "    Outline\n",
    ")"
   ]
  },
  {
   "cell_type": "code",
   "execution_count": 62,
   "metadata": {},
   "outputs": [
    {
     "name": "stdout",
     "output_type": "stream",
     "text": [
      "# Impact of Million-Plus Token Context Window Language Models on RAG\n",
      "\n",
      "## Introduction\n",
      "\n",
      "An overview of language models with million-plus token context windows and their relevance to retrieval-augmented generation (RAG) systems.\n",
      "\n",
      "## Background\n",
      "\n",
      "A discussion of traditional language models and their limitations regarding context windows. Introduction to RAG and its significance in natural language processing.\n",
      "\n",
      "## Million-Plus Token Context Window Language Models\n",
      "\n",
      "Exploration of the development and capabilities of language models that can process over a million tokens.\n",
      "\n",
      "## Retrieval-Augmented Generation (RAG)\n",
      "\n",
      "An overview of the RAG framework, its components, and how it integrates retrieval mechanisms with generation capabilities.\n",
      "\n",
      "## Impact on RAG Systems\n",
      "\n",
      "Analysis of how million-plus token context window language models influence RAG systems.\n",
      "\n",
      "## Advantages\n",
      "\n",
      "Detailed examination of the benefits that million-plus token context windows bring to RAG, including improved coherence, context retention, and information retrieval.\n",
      "\n",
      "## Challenges\n",
      "\n",
      "Discussion of the challenges posed by such large context windows, including computational demands and potential biases.\n",
      "\n",
      "## Applications\n",
      "\n",
      "Overview of practical applications of RAG systems enhanced by million-plus token context window language models in various fields.\n",
      "\n",
      "## Future Directions\n",
      "\n",
      "Speculation on future developments in language models and RAG systems, including potential research areas and technological advancements.\n",
      "\n",
      "## Conclusion\n",
      "\n",
      "Summary of the key points discussed and the overall impact of million-plus token context window language models on RAG.\n",
      "\n",
      "## References\n",
      "\n",
      "Citations and references to relevant literature, studies, and other resources.\n"
     ]
    }
   ],
   "source": [
    "example_topic = \"Impact of million-plus token context window language models on RAG\"\n",
    "\n",
    "initial_outline = generate_outline_direct.invoke({\"topic\": example_topic})\n",
    "\n",
    "print(initial_outline.as_str)"
   ]
  },
  {
   "cell_type": "markdown",
   "metadata": {},
   "source": [
    "#### Generate Related Topics"
   ]
  },
  {
   "cell_type": "code",
   "execution_count": 63,
   "metadata": {},
   "outputs": [],
   "source": [
    "gen_related_topics_prompt = ChatPromptTemplate.from_template(\n",
    "    \"\"\"I'm writing a Wikipedia page for a topic mentioned below. Please identify and recommend some Wikipedia pages on closely related subjects. I'm looking for examples that provide insights into interesting aspects commonly associated with this topic, or examples that help me understand the typical content and structure included in Wikipedia pages for similar topics.\n",
    "\n",
    "Please list only 3 subjects.\n",
    "\n",
    "Topic of interest: {topic}\n",
    "\"\"\"\n",
    ")\n",
    "\n",
    "\n",
    "class RelatedSubjects(BaseModel):\n",
    "    topics: List[str] = Field(\n",
    "        description=\"Comprehensive list of related subjects as background research.\",\n",
    "    )\n",
    "\n",
    "\n",
    "expand_chain = gen_related_topics_prompt | fast_llm.with_structured_output(\n",
    "    RelatedSubjects\n",
    ")"
   ]
  },
  {
   "cell_type": "code",
   "execution_count": 58,
   "metadata": {},
   "outputs": [
    {
     "data": {
      "text/plain": [
       "RelatedSubjects(topics=['million-plus token context window language models', 'retrieval-augmented generation (RAG)', 'natural language processing (NLP)'])"
      ]
     },
     "execution_count": 58,
     "metadata": {},
     "output_type": "execute_result"
    }
   ],
   "source": [
    "related_subjects = await expand_chain.ainvoke({\"topic\": example_topic})\n",
    "related_subjects"
   ]
  },
  {
   "cell_type": "markdown",
   "metadata": {},
   "source": [
    "#### Generate Perspectives"
   ]
  },
  {
   "cell_type": "code",
   "execution_count": 97,
   "metadata": {},
   "outputs": [],
   "source": [
    "class Editor(BaseModel):\n",
    "    affiliation: str = Field(\n",
    "        description=\"Primary affiliation of the editor.\",\n",
    "    )\n",
    "    name: str = Field(\n",
    "        description=\"Name of the editor. Don't use any special characters or spaces.\", pattern=r\"^[a-zA-Z0-9_-]{1,64}$\"\n",
    "    )\n",
    "    role: str = Field(\n",
    "        description=\"Role of the editor in the context of the topic.\",\n",
    "    )\n",
    "    description: str = Field(\n",
    "        description=\"Description of the editor's focus, concerns, and motives.\",\n",
    "    )\n",
    "\n",
    "    @property\n",
    "    def persona(self) -> str:\n",
    "        return f\"Name: {self.name}\\nRole: {self.role}\\nAffiliation: {self.affiliation}\\nDescription: {self.description}\\n\"\n",
    "\n",
    "\n",
    "class Perspectives(BaseModel):\n",
    "    editors: List[Editor] = Field(\n",
    "        description=\"Comprehensive list of editors with their roles and affiliations.\",\n",
    "        # Add a pydantic validation/restriction to be at most M editors\n",
    "    )\n",
    "\n",
    "\n",
    "gen_perspectives_prompt = ChatPromptTemplate.from_messages(\n",
    "    [\n",
    "        (\n",
    "            \"system\",\n",
    "            \"\"\"You need to select a diverse (and distinct) group of Wikipedia editors who will work together to create a comprehensive article on the topic. Each of them represents a different perspective, role, or affiliation related to this topic.\\\n",
    "    You can use other Wikipedia pages of related topics for inspiration. For each editor, add a description of what they will focus on. Generate only 3 editors.\n",
    "\n",
    "    Wiki page outlines of related topics for inspiration:\n",
    "    {examples}\"\"\",\n",
    "        ),\n",
    "        (\"user\", \"Topic of interest: {topic}\"),\n",
    "    ]\n",
    ")\n",
    "\n",
    "gen_perspectives_chain = gen_perspectives_prompt | ChatOpenAI(\n",
    "    model=\"gpt-4o-mini\"\n",
    ").with_structured_output(Perspectives)"
   ]
  },
  {
   "cell_type": "code",
   "execution_count": 98,
   "metadata": {},
   "outputs": [],
   "source": [
    "from langchain_community.retrievers import WikipediaRetriever\n",
    "from langchain_core.runnables import RunnableLambda\n",
    "from langchain_core.runnables import chain as as_runnable\n",
    "\n",
    "wikipedia_retriever = WikipediaRetriever(load_all_available_meta=True, top_k_results=1)\n",
    "\n",
    "\n",
    "def format_doc(doc, max_length=1000):\n",
    "    related = \"- \".join(doc.metadata[\"categories\"])\n",
    "    return f\"### {doc.metadata['title']}\\n\\nSummary: {doc.page_content}\\n\\nRelated\\n{related}\"[\n",
    "        :max_length\n",
    "    ]\n",
    "\n",
    "\n",
    "def format_docs(docs):\n",
    "    return \"\\n\\n\".join(format_doc(doc) for doc in docs)\n",
    "\n",
    "\n",
    "@as_runnable\n",
    "async def survey_subjects(topic: str):\n",
    "    related_subjects = await expand_chain.ainvoke({\"topic\": topic})\n",
    "    retrieved_docs = await wikipedia_retriever.abatch(\n",
    "        related_subjects.topics, return_exceptions=True\n",
    "    )\n",
    "    all_docs = []\n",
    "    for docs in retrieved_docs:\n",
    "        if isinstance(docs, BaseException):\n",
    "            continue\n",
    "        all_docs.extend(docs)\n",
    "    formatted = format_docs(all_docs)\n",
    "    return await gen_perspectives_chain.ainvoke({\"examples\": formatted, \"topic\": topic})"
   ]
  },
  {
   "cell_type": "code",
   "execution_count": null,
   "metadata": {},
   "outputs": [],
   "source": [
    "perspectives = await survey_subjects.ainvoke(example_topic)"
   ]
  },
  {
   "cell_type": "code",
   "execution_count": 83,
   "metadata": {},
   "outputs": [
    {
     "data": {
      "text/plain": [
       "{'editors': [{'affiliation': 'University of Technology, AI Research Lab',\n",
       "   'name': 'drAliceSmith',\n",
       "   'role': 'AI Researcher',\n",
       "   'description': 'Dr. Smith will focus on the theoretical advancements in large language models (LLMs) with million-plus token context windows, examining their architecture, training methodologies, and implications for retrieval-augmented generation (RAG). She is particularly interested in how these models enhance the relevance and accuracy of generated responses.'},\n",
       "  {'affiliation': 'Tech Company, NLP Engineering Team',\n",
       "   'name': 'johnDoe',\n",
       "   'role': 'NLP Engineer',\n",
       "   'description': 'John will analyze practical applications of million-token context window models within RAG systems in industry settings. His insights will include case studies where these models have improved performance in enterprise-level chatbots and document retrieval systems, discussing challenges faced during implementation.'},\n",
       "  {'affiliation': 'University of Linguistics and Cognitive Science',\n",
       "   'name': 'profEmilyWhite',\n",
       "   'role': 'Linguist',\n",
       "   'description': 'Prof. White will provide a linguistic perspective on the impact of large context windows on language understanding and generation. She will explore how these models manage context over extended text and the implications for nuanced language processing in RAG.'},\n",
       "  {'affiliation': 'Non-Profit Organization, AI Ethics Division',\n",
       "   'name': 'mikeJohnson',\n",
       "   'role': 'Ethics Researcher',\n",
       "   'description': 'Mike will address ethical considerations and potential biases introduced by million-plus token context models in RAG. He will focus on the implications for data privacy, misinformation, and transparency when these models are deployed in public-facing applications.'},\n",
       "  {'affiliation': 'Tech Journalism, AI and Machine Learning Section',\n",
       "   'name': 'saraLee',\n",
       "   'role': 'Tech Journalist',\n",
       "   'description': 'Sara will cover the societal impacts and public perception of million-token context models. She will investigate how advancements in RAG can influence everyday technology use and what it means for users in terms of trust and reliability in AI-generated content.'},\n",
       "  {'affiliation': 'Start-Up, Innovative AI Solutions',\n",
       "   'name': 'tinaNguyen',\n",
       "   'role': 'Product Manager',\n",
       "   'description': 'Tina will discuss the market trends and future directions for RAG technologies enhanced by million-plus token context models. Her focus will be on product development, user experience, and the commercial viability of these advanced AI systems in various sectors.'}]}"
      ]
     },
     "execution_count": 83,
     "metadata": {},
     "output_type": "execute_result"
    }
   ],
   "source": [
    "perspectives.dict()"
   ]
  },
  {
   "cell_type": "markdown",
   "metadata": {},
   "source": [
    "#### State"
   ]
  },
  {
   "cell_type": "code",
   "execution_count": 99,
   "metadata": {},
   "outputs": [],
   "source": [
    "from typing import Annotated \n",
    "\n",
    "from langchain_core.messages import AnyMessage\n",
    "from typing_extensions import TypedDict\n",
    "\n",
    "from langgraph.graph import END, StateGraph, START\n",
    "\n",
    "def add_messages(left, right):\n",
    "    if not isinstance(left, list):\n",
    "        left = [left]\n",
    "    if not isinstance(right, list):\n",
    "        right = [right]\n",
    "    return left + right\n",
    "\n",
    "def update_references(references, new_references):\n",
    "    if not references:\n",
    "        references = {}\n",
    "    references.update(new_references)\n",
    "    return references\n",
    "\n",
    "def update_editor(editor, new_editor):\n",
    "    if not editor:\n",
    "        return new_editor\n",
    "    return editor\n",
    "\n",
    "class InterviewState(TypedDict):\n",
    "    messages: Annotated[List[AnyMessage], add_messages]\n",
    "    references: Annotated[Optional[dict], update_references]\n",
    "    editor: Annotated[Optional[Editor], update_editor]"
   ]
  },
  {
   "cell_type": "code",
   "execution_count": 100,
   "metadata": {},
   "outputs": [],
   "source": [
    "from langchain_core.messages import AIMessage, HumanMessage, ToolMessage\n",
    "from langchain_core.prompts import MessagesPlaceholder\n",
    "\n",
    "gen_qn_prompt = ChatPromptTemplate.from_messages(\n",
    "    [\n",
    "        (\n",
    "            \"system\",\n",
    "            \"\"\"You are an experienced Wikipedia writer and want to edit a specific page. \\\n",
    "Besides your identity as a Wikipedia writer, you have a specific focus when researching the topic. \\\n",
    "Now, you are chatting with an expert to get information. Ask good questions to get more useful information.\n",
    "\n",
    "When you have no more questions to ask, say \"Thank you so much for your help!\" to end the conversation.\\\n",
    "Please only ask one question at a time and don't ask what you have asked before.\\\n",
    "Your questions should be related to the topic you want to write.\n",
    "Be comprehensive and curious, gaining as much unique insight from the expert as possible.\\\n",
    "\n",
    "Stay true to your specific perspective:\n",
    "\n",
    "{persona}\"\"\",\n",
    "        ),\n",
    "        MessagesPlaceholder(variable_name=\"messages\", optional=True),\n",
    "    ]\n",
    ")\n",
    "\n",
    "def tag_with_name(ai_messages: AIMessage, name: str):\n",
    "    ai_messages.name = name\n",
    "    return ai_messages\n",
    "\n",
    "def swap_roles(state: InterviewState, name: str):\n",
    "    converted = []\n",
    "    for message in state[\"messages\"]:\n",
    "        if isinstance(message, AIMessage) and message.name != name:\n",
    "            message = HumanMessage(**message.dict(exclude={\"type\"}))\n",
    "        converted.append(message)\n",
    "    return {\"messages\": converted}\n",
    "\n",
    "@as_runnable\n",
    "async def generate_question(state: InterviewState):\n",
    "    editor = state[\"editor\"]\n",
    "    gn_chain = (\n",
    "        RunnableLambda(swap_roles).bind(name=editor.name)\n",
    "        | gen_qn_prompt.partial(persona=editor.persona)\n",
    "        | fast_llm \n",
    "        | RunnableLambda(tag_with_name).bind(name=editor.name)\n",
    "    )\n",
    "    result = await gn_chain.ainvoke(state)\n",
    "    return {\"messages\": [result]}"
   ]
  },
  {
   "cell_type": "code",
   "execution_count": 103,
   "metadata": {},
   "outputs": [
    {
     "data": {
      "text/plain": [
       "\"Yes, I'm focusing on how large language models (LLMs) with million-plus token context windows influence retrieval-augmented generation (RAG) methodologies. What specific aspects of these models and their impact on RAG would you say are the most significant or noteworthy?\""
      ]
     },
     "execution_count": 103,
     "metadata": {},
     "output_type": "execute_result"
    }
   ],
   "source": [
    "messages = [\n",
    "    HumanMessage(f\"So you said you were writing an article on {example_topic}?\")\n",
    "]\n",
    "question = await generate_question.ainvoke(\n",
    "    {\n",
    "        \"editor\": perspectives.editors[0],\n",
    "        \"messages\": messages,\n",
    "    }\n",
    ")\n",
    "\n",
    "question[\"messages\"][0].content"
   ]
  },
  {
   "cell_type": "markdown",
   "metadata": {},
   "source": [
    "#### Answer Question"
   ]
  },
  {
   "cell_type": "code",
   "execution_count": 104,
   "metadata": {},
   "outputs": [],
   "source": [
    "class Queries(BaseModel):\n",
    "    queries: List[str] = Field(\n",
    "        description=\"Comprehensive list of search engine queries to answer the user's questions.\",\n",
    "    )\n",
    "\n",
    "gen_queries_prompt = ChatPromptTemplate.from_messages(\n",
    "    [\n",
    "        (\n",
    "            \"system\",\n",
    "            \"You are a helpful research assistant. Query the search engine to answer the user's questions.\",\n",
    "        ),\n",
    "        MessagesPlaceholder(variable_name=\"messages\", optional=True),\n",
    "    ]\n",
    ")\n",
    "gen_queries_chain = gen_queries_prompt | ChatOpenAI(\n",
    "    model=\"gpt-4o-mini\"\n",
    ").with_structured_output(Queries, include_raw=True)"
   ]
  },
  {
   "cell_type": "code",
   "execution_count": 105,
   "metadata": {},
   "outputs": [
    {
     "data": {
      "text/plain": [
       "['impact of large language models on retrieval-augmented generation',\n",
       " 'million-plus token context windows in LLMs',\n",
       " 'how do LLMs influence RAG methodologies',\n",
       " 'significant aspects of LLMs for retrieval-augmented generation',\n",
       " 'benefits of large context windows in LLMs for RAG',\n",
       " 'challenges of using large language models in RAG',\n",
       " 'Case studies of RAG with large context window LLMs']"
      ]
     },
     "execution_count": 105,
     "metadata": {},
     "output_type": "execute_result"
    }
   ],
   "source": [
    "queries = await gen_queries_chain.ainvoke(\n",
    "    {\"messages\": [HumanMessage(content=question[\"messages\"][0].content)]}\n",
    ")\n",
    "queries[\"parsed\"].queries"
   ]
  },
  {
   "cell_type": "code",
   "execution_count": 106,
   "metadata": {},
   "outputs": [],
   "source": [
    "class AnswerWithCitations(BaseModel):\n",
    "    answer: str = Field(\n",
    "        description=\"Comprehensive answer to the user's question with citations.\",\n",
    "    )\n",
    "    cited_urls: List[str] = Field(\n",
    "        description=\"List of urls cited in the answer.\",\n",
    "    )\n",
    "\n",
    "    @property\n",
    "    def as_str(self) -> str:\n",
    "        return f\"{self.answer}\\n\\nCitations:\\n\\n\" + \"\\n\".join(\n",
    "            f\"[{i+1}]: {url}\" for i, url in enumerate(self.cited_urls)\n",
    "        )\n",
    "\n",
    "\n",
    "gen_answer_prompt = ChatPromptTemplate.from_messages(\n",
    "    [\n",
    "        (\n",
    "            \"system\",\n",
    "            \"\"\"You are an expert who can use information effectively. You are chatting with a Wikipedia writer who wants\\\n",
    " to write a Wikipedia page on the topic you know. You have gathered the related information and will now use the information to form a response.\n",
    "\n",
    "Make your response as informative as possible and make sure every sentence is supported by the gathered information.\n",
    "Each response must be backed up by a citation from a reliable source, formatted as a footnote, reproducing the URLS after your response.\"\"\",\n",
    "        ),\n",
    "        MessagesPlaceholder(variable_name=\"messages\", optional=True),\n",
    "    ]\n",
    ")\n",
    "\n",
    "gen_answer_chain = gen_answer_prompt | fast_llm.with_structured_output(\n",
    "    AnswerWithCitations, include_raw=True\n",
    ").with_config(run_name=\"GenerateAnswer\")"
   ]
  },
  {
   "cell_type": "code",
   "execution_count": 107,
   "metadata": {},
   "outputs": [],
   "source": [
    "from langchain_community.utilities.duckduckgo_search import DuckDuckGoSearchAPIWrapper\n",
    "from langchain_core.tools import tool\n",
    "\n",
    "'''\n",
    "# Tavily is typically a better search engine, but your free queries are limited\n",
    "search_engine = TavilySearchResults(max_results=4)\n",
    "\n",
    "@tool\n",
    "async def search_engine(query: str):\n",
    "    \"\"\"Search engine to the internet.\"\"\"\n",
    "    results = tavily_search.invoke(query)\n",
    "    return [{\"content\": r[\"content\"], \"url\": r[\"url\"]} for r in results]\n",
    "'''\n",
    "\n",
    "# DDG\n",
    "search_engine = DuckDuckGoSearchAPIWrapper()\n",
    "\n",
    "\n",
    "@tool\n",
    "async def search_engine(query: str):\n",
    "    \"\"\"Search engine to the internet.\"\"\"\n",
    "    results = DuckDuckGoSearchAPIWrapper()._ddgs_text(query)\n",
    "    return [{\"content\": r[\"body\"], \"url\": r[\"href\"]} for r in results]"
   ]
  },
  {
   "cell_type": "code",
   "execution_count": 108,
   "metadata": {},
   "outputs": [],
   "source": [
    "import json\n",
    "\n",
    "from langchain_core.runnables import RunnableConfig\n",
    "\n",
    "\n",
    "async def gen_answer(\n",
    "    state: InterviewState,\n",
    "    config: Optional[RunnableConfig] = None,\n",
    "    name: str = \"Subject_Matter_Expert\",\n",
    "    max_str_len: int = 15000,\n",
    "):\n",
    "    swapped_state = swap_roles(state, name)  # Convert all other AI messages\n",
    "    queries = await gen_queries_chain.ainvoke(swapped_state)\n",
    "    query_results = await search_engine.abatch(\n",
    "        queries[\"parsed\"].queries, config, return_exceptions=True\n",
    "    )\n",
    "    successful_results = [\n",
    "        res for res in query_results if not isinstance(res, Exception)\n",
    "    ]\n",
    "    all_query_results = {\n",
    "        res[\"url\"]: res[\"content\"] for results in successful_results for res in results\n",
    "    }\n",
    "    # We could be more precise about handling max token length if we wanted to here\n",
    "    dumped = json.dumps(all_query_results)[:max_str_len]\n",
    "    ai_message: AIMessage = queries[\"raw\"]\n",
    "    tool_call = queries[\"raw\"].tool_calls[0]\n",
    "    tool_id = tool_call[\"id\"]\n",
    "    tool_message = ToolMessage(tool_call_id=tool_id, content=dumped)\n",
    "    swapped_state[\"messages\"].extend([ai_message, tool_message])\n",
    "    # Only update the shared state with the final answer to avoid\n",
    "    # polluting the dialogue history with intermediate messages\n",
    "    generated = await gen_answer_chain.ainvoke(swapped_state)\n",
    "    cited_urls = set(generated[\"parsed\"].cited_urls)\n",
    "    # Save the retrieved information to a the shared state for future reference\n",
    "    cited_references = {k: v for k, v in all_query_results.items() if k in cited_urls}\n",
    "    formatted_message = AIMessage(name=name, content=generated[\"parsed\"].as_str)\n",
    "    return {\"messages\": [formatted_message], \"references\": cited_references}"
   ]
  },
  {
   "cell_type": "code",
   "execution_count": 93,
   "metadata": {},
   "outputs": [
    {
     "data": {
      "text/plain": [
       "\"The introduction of large language models (LLMs) with million-plus token context windows significantly enhances the architecture and functionality of retrieval-augmented generation (RAG) systems. Firstly, the extended context windows allow LLMs to process and integrate a larger volume of information simultaneously, which is crucial for understanding complex queries and generating more coherent and contextually relevant responses. This capability enables the models to consider a broader scope of information, making it possible to generate responses that are more informed and grounded in reality, as they can reference a larger amount of relevant data from the retrieval system directly within the context window itself[^1^][^2^].\\n\\nMoreover, the architecture of LLMs with large context windows typically involves modifications to how information is encoded and represented. For instance, positional interpolation techniques may be employed to extend the context effectively, allowing the model to maintain coherence over long inputs[^3^]. This necessitates a reevaluation of the attention mechanisms within the model, as traditional mechanisms can struggle with scaling to such large contexts. Instead, innovations like sparse attention or memory-augmented architectures may be implemented to optimize performance across extensive inputs[^4^].\\n\\nAdditionally, the synergy between large context windows and RAG systems means that the retrieval component can feed relevant documents or information directly into the context of the LLM, fostering a more dynamic interaction where the model can leverage real-time data retrieval to enhance its generative capabilities. This combination not only improves the factual accuracy of generated responses but also enriches the model's ability to engage with complex topics that require extensive background knowledge[^5^]. Overall, the integration of extended context windows into RAG represents a paradigm shift in how LLMs can function, enhancing their potential for various applications in natural language processing.\\n\\nCitations:\\n\\n[1]: https://spectrum.ieee.org/ai-context-window\\n[2]: https://www.thecloudgirl.dev/blog/rag-vs-large-context-window\\n[3]: https://www.deepset.ai/blog/long-context-llms-rag\\n[4]: https://arxiv.org/html/2409.13385v2\\n[5]: https://learn.microsoft.com/en-us/azure/search/retrieval-augmented-generation-overview\""
      ]
     },
     "execution_count": 93,
     "metadata": {},
     "output_type": "execute_result"
    }
   ],
   "source": [
    "example_answer = await gen_answer(\n",
    "    {\"messages\": [HumanMessage(content=question[\"messages\"][0].content)]}\n",
    ")\n",
    "example_answer[\"messages\"][-1].content"
   ]
  },
  {
   "cell_type": "markdown",
   "metadata": {},
   "source": [
    "#### Interview Graph"
   ]
  },
  {
   "cell_type": "code",
   "execution_count": 109,
   "metadata": {},
   "outputs": [],
   "source": [
    "max_num_turns = 5\n",
    "from langgraph.pregel import RetryPolicy\n",
    "\n",
    "\n",
    "def route_messages(state: InterviewState, name: str = \"Subject_Matter_Expert\"):\n",
    "    messages = state[\"messages\"]\n",
    "    num_responses = len(\n",
    "        [m for m in messages if isinstance(m, AIMessage) and m.name == name]\n",
    "    )\n",
    "    if num_responses >= max_num_turns:\n",
    "        return END\n",
    "    last_question = messages[-2]\n",
    "    if last_question.content.endswith(\"Thank you so much for your help!\"):\n",
    "        return END\n",
    "    return \"ask_question\"\n",
    "\n",
    "\n",
    "builder = StateGraph(InterviewState)\n",
    "\n",
    "builder.add_node(\"ask_question\", generate_question, retry=RetryPolicy(max_attempts=3))\n",
    "builder.add_node(\"answer_question\", gen_answer, retry=RetryPolicy(max_attempts=3))\n",
    "builder.add_conditional_edges(\"answer_question\", route_messages)\n",
    "builder.add_edge(\"ask_question\", \"answer_question\")\n",
    "\n",
    "builder.add_edge(START, \"ask_question\")\n",
    "interview_graph = builder.compile().with_config(\n",
    "    run_name=\"Conduct Interviews\"\n",
    ")"
   ]
  },
  {
   "cell_type": "code",
   "execution_count": 110,
   "metadata": {},
   "outputs": [
    {
     "data": {
      "image/jpeg": "[encoded data removed]",
      "text/plain": [
       "<IPython.core.display.Image object>"
      ]
     },
     "metadata": {},
     "output_type": "display_data"
    }
   ],
   "source": [
    "from IPython.display import Image, display\n",
    "\n",
    "try:\n",
    "    display(Image(interview_graph.get_graph().draw_mermaid_png()))\n",
    "except Exception:\n",
    "    # This requires some extra dependencies and is optional\n",
    "    pass"
   ]
  },
  {
   "cell_type": "code",
   "execution_count": 111,
   "metadata": {},
   "outputs": [
    {
     "name": "stdout",
     "output_type": "stream",
     "text": [
      "ask_question\n",
      "--  [AIMessage(content=\"Yes, that's correct! I'm particularly interested in understanding how large language models (LLMs) with million-plus token context windows influence retrieval-augmented generation (RAG) processes. Could you explain how these extended context windows improve the relevance and accu\n",
      "answer_question\n",
      "--  [AIMessage(content='Large language models (LLMs) with million-plus token context windows significantly enhance retrieval-augmented generation (RAG) processes by allowing these models to process and utilize vast amounts of information at once. The primary advantage of extended context windows is the \n",
      "ask_question\n",
      "--  [AIMessage(content=\"That's an excellent overview! Given that the integration of extensive context windows leads to improved performance in RAG, could you elaborate on the specific architectural changes or training methodologies used to develop these million-plus token context LLMs? How do these chan\n",
      "answer_question\n",
      "--  [AIMessage(content=\"The development of million-plus token context language models (LLMs) involves several architectural changes and training methodologies that differ significantly from traditional models. One of the most notable architectural adaptations is the introduction of mechanisms to efficie\n",
      "ask_question\n",
      "--  [AIMessage(content=\"That's fascinating! It seems that both architectural innovations and specialized training methodologies are key to the success of these models. Could you provide more insight into how the integration of external knowledge bases during the RAG process is facilitated by these long-\n",
      "answer_question\n",
      "--  [AIMessage(content=\"The integration of external knowledge bases during the retrieval-augmented generation (RAG) process is significantly enhanced by long-context language models (LLMs) through various techniques that ensure accurate retrieval and effective synthesis of information. One of the primar\n",
      "ask_question\n",
      "--  [AIMessage(content='Thank you so much for your help!', response_metadata={'token_usage': {'completion_tokens': 8, 'prompt_tokens': 1634, 'total_tokens': 1642, 'prompt_tokens_details': {'cached_tokens': 0}, 'completion_tokens_details': {'reasoning_tokens': 0}}, 'model_name': 'gpt-4o-mini-2024-07-18',\n",
      "answer_question\n",
      "--  [AIMessage(content=\"You're welcome! I'm glad I could assist you. If you have any more questions in the future or need further clarification on related topics, feel free to reach out. Best of luck with your Wikipedia article on the impact of million-plus token context window language models on RAG!\\n\n"
     ]
    }
   ],
   "source": [
    "final_step = None\n",
    "\n",
    "initial_state = {\n",
    "    \"editor\": perspectives.editors[0],\n",
    "    \"messages\": [\n",
    "        AIMessage(\n",
    "            content=f\"So you said you were writing an article on {example_topic}?\",\n",
    "            name=\"Subject_Matter_Expert\",\n",
    "        )\n",
    "    ],\n",
    "}\n",
    "async for step in interview_graph.astream(initial_state):\n",
    "    name = next(iter(step))\n",
    "    print(name)\n",
    "    print(\"-- \", str(step[name][\"messages\"])[:300])\n",
    "final_step = step"
   ]
  },
  {
   "cell_type": "code",
   "execution_count": 112,
   "metadata": {},
   "outputs": [],
   "source": [
    "final_state = next(iter(final_step.values()))"
   ]
  },
  {
   "cell_type": "markdown",
   "metadata": {},
   "source": [
    "#### Refine Outline"
   ]
  },
  {
   "cell_type": "code",
   "execution_count": 113,
   "metadata": {},
   "outputs": [],
   "source": [
    "refine_outline_prompt = ChatPromptTemplate.from_messages(\n",
    "    [\n",
    "        (\n",
    "            \"system\",\n",
    "            \"\"\"You are a Wikipedia writer. You have gathered information from experts and search engines. Now, you are refining the outline of the Wikipedia page. \\\n",
    "You need to make sure that the outline is comprehensive and specific. \\\n",
    "Topic you are writing about: {topic} \n",
    "\n",
    "Old outline:\n",
    "\n",
    "{old_outline}\"\"\",\n",
    "        ),\n",
    "        (\n",
    "            \"user\",\n",
    "            \"Refine the outline based on your conversations with subject-matter experts:\\n\\nConversations:\\n\\n{conversations}\\n\\nWrite the refined Wikipedia outline:\",\n",
    "        ),\n",
    "    ]\n",
    ")\n",
    "\n",
    "# Using turbo preview since the context can get quite long\n",
    "refine_outline_chain = refine_outline_prompt | long_context_llm.with_structured_output(\n",
    "    Outline\n",
    ")"
   ]
  },
  {
   "cell_type": "code",
   "execution_count": 114,
   "metadata": {},
   "outputs": [],
   "source": [
    "refined_outline = refine_outline_chain.invoke(\n",
    "    {\n",
    "        \"topic\": example_topic,\n",
    "        \"old_outline\": initial_outline.as_str,\n",
    "        \"conversations\": \"\\n\\n\".join(\n",
    "            f\"### {m.name}\\n\\n{m.content}\" for m in final_state[\"messages\"]\n",
    "        ),\n",
    "    }\n",
    ")"
   ]
  },
  {
   "cell_type": "code",
   "execution_count": 30,
   "metadata": {},
   "outputs": [
    {
     "name": "stdout",
     "output_type": "stream",
     "text": [
      "# Impact of Million-Plus Token Context Window Language Models on RAG\n",
      "\n",
      "## Introduction\n",
      "\n",
      "An overview of the significance of language models with million-plus token context windows and their relevance to Retrieval-Augmented Generation (RAG).\n",
      "\n",
      "## Background\n",
      "\n",
      "A brief explanation of language models, context windows, and the concept of RAG.\n",
      "\n",
      "## Understanding Context Windows\n",
      "\n",
      "An in-depth look at what context windows are in language models and the historical evolution toward million-plus token context windows.\n",
      "\n",
      "### Definition of Context Windows\n",
      "\n",
      "Definition and importance of context windows in language models.\n",
      "\n",
      "### Evolution of Context Window Size\n",
      "\n",
      "Timeline showing the progression of context window sizes in various language models.\n",
      "\n",
      "### Benefits of Larger Context Windows\n",
      "\n",
      "Advantages of having larger context windows in terms of comprehension and generation.\n",
      "\n",
      "## Retrieval-Augmented Generation (RAG)\n",
      "\n",
      "Detailed explanation of RAG, its components, and importance in natural language processing.\n",
      "\n",
      "### Components of RAG\n",
      "\n",
      "Overview of the components of RAG including retrieval mechanisms and generation models.\n",
      "\n",
      "### Use Cases of RAG\n",
      "\n",
      "Examples of applications and scenarios where RAG is beneficial.\n",
      "\n",
      "## Impact of Million-Plus Token Context Windows on RAG\n",
      "\n",
      "Analysis of how million-plus token context windows enhance or affect RAG performance and applications.\n",
      "\n",
      "### Improved Information Retrieval\n",
      "\n",
      "How larger context windows help in better retrieval of information.\n",
      "\n",
      "### Enhanced Contextual Understanding\n",
      "\n",
      "The role of extended context in improving understanding and coherence in generated responses.\n",
      "\n",
      "### Challenges and Limitations\n",
      "\n",
      "Potential drawbacks and challenges faced when implementing million-plus token context windows in RAG, including computational resources, training complexities, and deployment efficiency.\n",
      "\n",
      "## Case Studies\n",
      "\n",
      "Real-world examples and studies demonstrating the impact of million-plus token context windows on RAG implementations.\n",
      "\n",
      "## Future Directions\n",
      "\n",
      "Potential future developments in language models and RAG as it pertains to context window sizes, including strategies to mitigate computational and deployment challenges.\n",
      "\n",
      "## Conclusion\n",
      "\n",
      "Summary of the key points discussed and the overall significance of the impact of million-plus token context windows on RAG.\n",
      "\n",
      "## References\n",
      "\n",
      "A list of scholarly articles, papers, and other resources referenced throughout the page.\n"
     ]
    }
   ],
   "source": [
    "print(refined_outline.as_str)"
   ]
  },
  {
   "cell_type": "markdown",
   "metadata": {},
   "source": [
    "#### Create a Retriever\n"
   ]
  },
  {
   "cell_type": "code",
   "execution_count": 115,
   "metadata": {},
   "outputs": [],
   "source": [
    "from langchain_community.vectorstores import InMemoryVectorStore\n",
    "from langchain_core.documents import Document\n",
    "from langchain_openai import OpenAIEmbeddings\n",
    "\n",
    "embeddings = OpenAIEmbeddings(model=\"text-embedding-3-small\")\n",
    "reference_docs = [\n",
    "    Document(page_content=v, metadata={\"source\": k})\n",
    "    for k, v in final_state[\"references\"].items()\n",
    "]\n",
    "\n",
    "vectorstore = InMemoryVectorStore.from_documents(reference_docs, embeddings)\n",
    "retriever = vectorstore.as_retriever()"
   ]
  },
  {
   "cell_type": "code",
   "execution_count": 32,
   "metadata": {},
   "outputs": [
    {
     "data": {
      "text/plain": [
       "[]"
      ]
     },
     "execution_count": 32,
     "metadata": {},
     "output_type": "execute_result"
    }
   ],
   "source": [
    "retriever.invoke(\"What's a long context LLM anyway?\")"
   ]
  },
  {
   "cell_type": "code",
   "execution_count": 116,
   "metadata": {},
   "outputs": [],
   "source": [
    "class SubSection(BaseModel):\n",
    "    subsection_title: str = Field(..., title=\"Title of the subsection\")\n",
    "    content: str = Field(\n",
    "        ...,\n",
    "        title=\"Full content of the subsection. Include [#] citations to the cited sources where relevant.\",\n",
    "    )\n",
    "\n",
    "    @property\n",
    "    def as_str(self) -> str:\n",
    "        return f\"### {self.subsection_title}\\n\\n{self.content}\".strip()\n",
    "\n",
    "\n",
    "class WikiSection(BaseModel):\n",
    "    section_title: str = Field(..., title=\"Title of the section\")\n",
    "    content: str = Field(..., title=\"Full content of the section\")\n",
    "    subsections: Optional[List[Subsection]] = Field(\n",
    "        default=None,\n",
    "        title=\"Titles and descriptions for each subsection of the Wikipedia page.\",\n",
    "    )\n",
    "    citations: List[str] = Field(default_factory=list)\n",
    "\n",
    "    @property\n",
    "    def as_str(self) -> str:\n",
    "        subsections = \"\\n\\n\".join(\n",
    "            subsection.as_str for subsection in self.subsections or []\n",
    "        )\n",
    "        citations = \"\\n\".join([f\" [{i}] {cit}\" for i, cit in enumerate(self.citations)])\n",
    "        return (\n",
    "            f\"## {self.section_title}\\n\\n{self.content}\\n\\n{subsections}\".strip()\n",
    "            + f\"\\n\\n{citations}\".strip()\n",
    "        )\n",
    "\n",
    "\n",
    "section_writer_prompt = ChatPromptTemplate.from_messages(\n",
    "    [\n",
    "        (\n",
    "            \"system\",\n",
    "            \"You are an expert Wikipedia writer. Complete your assigned WikiSection from the following outline:\\n\\n\"\n",
    "            \"{outline}\\n\\nCite your sources, using the following references:\\n\\n\\n{docs}\\n\",\n",
    "        ),\n",
    "        (\"user\", \"Write the full WikiSection for the {section} section.\"),\n",
    "    ]\n",
    ")\n",
    "\n",
    "\n",
    "async def retrieve(inputs: dict):\n",
    "    docs = await retriever.ainvoke(inputs[\"topic\"] + \": \" + inputs[\"section\"])\n",
    "    formatted = \"\\n\".join(\n",
    "        [\n",
    "            f'\\n{doc.page_content}\\n'\n",
    "            for doc in docs\n",
    "        ]\n",
    "    )\n",
    "    return {\"docs\": formatted, **inputs}\n",
    "\n",
    "\n",
    "section_writer = (\n",
    "    retrieve\n",
    "    | section_writer_prompt\n",
    "    | long_context_llm.with_structured_output(WikiSection)\n",
    ")"
   ]
  },
  {
   "cell_type": "code",
   "execution_count": 35,
   "metadata": {},
   "outputs": [
    {
     "name": "stdout",
     "output_type": "stream",
     "text": [
      "## Background\n",
      "\n",
      "Language models are computational systems designed to understand and generate human language. They are fundamental to the field of natural language processing (NLP) and are used in various applications, from chatbots and translation services to information retrieval systems. A critical feature of these models is the 'context window,' which determines the amount of preceding text the model considers when making predictions or generating text. The size of this context window greatly influences the model's ability to understand and generate contextually relevant responses.\\n\\nRetrieval-Augmented Generation (RAG) is a sophisticated NLP approach that combines the capabilities of retrieval systems and generation models to produce more accurate and contextually appropriate responses. RAG utilizes external knowledge sources, which are searched through retrieval mechanisms to gather relevant information that supplements the generative model's output. This technique is particularly beneficial in scenarios where the generative model alone lacks the necessary knowledge to generate an informed response. As language models evolve to accommodate larger context windows, their integration with RAG systems holds the potential for significantly improved performance across various applications.\"\n"
     ]
    }
   ],
   "source": [
    "section = await section_writer.ainvoke(\n",
    "    {\n",
    "        \"outline\": refined_outline.as_str,\n",
    "        \"section\": refined_outline.sections[1].section_title,\n",
    "        \"topic\": example_topic,\n",
    "    }\n",
    ")\n",
    "print(section.as_str)"
   ]
  },
  {
   "cell_type": "markdown",
   "metadata": {},
   "source": [
    "### Generate Final Article"
   ]
  },
  {
   "cell_type": "code",
   "execution_count": 117,
   "metadata": {},
   "outputs": [],
   "source": [
    "from langchain_core.output_parsers import StrOutputParser\n",
    "\n",
    "writer_prompt = ChatPromptTemplate.from_messages(\n",
    "    [\n",
    "        (\n",
    "            \"system\",\n",
    "            \"You are an expert Wikipedia author. Write the complete wiki article on {topic} using the following section drafts:\\n\\n\"\n",
    "            \"{draft}\\n\\nStrictly follow Wikipedia format guidelines.\",\n",
    "        ),\n",
    "        (\n",
    "            \"user\",\n",
    "            'Write the complete Wiki article using markdown format. Organize citations using footnotes like \"[1]\",'\n",
    "            \" avoiding duplicates in the footer. Include URLs in the footer.\",\n",
    "        ),\n",
    "    ]\n",
    ")\n",
    "\n",
    "writer = writer_prompt | long_context_llm | StrOutputParser()"
   ]
  },
  {
   "cell_type": "code",
   "execution_count": 37,
   "metadata": {},
   "outputs": [
    {
     "name": "stdout",
     "output_type": "stream",
     "text": [
      "# Impact of Million-Plus Token Context Window Language Models on RAG\n",
      "\n",
      "## Background\n",
      "\n",
      "Language models are computational systems designed to understand and generate human language. They form a fundamental component of natural language processing (NLP) applications, which range from chatbots and translation services to information retrieval systems. A critical aspect of these models is the 'context window,' which determines the amount of preceding text the model considers when making predictions or generating text. The size of this context window greatly influences the model's ability to understand and generate contextually relevant responses.\n",
      "\n",
      "Retrieval-Augmented Generation (RAG) is a sophisticated NLP approach that combines the capabilities of retrieval systems and generation models to produce more accurate and contextually appropriate responses. RAG utilizes external knowledge sources, which are searched through retrieval mechanisms to gather relevant information that supplements the generative model's output. This technique is particularly beneficial in scenarios where the generative model alone lacks the necessary knowledge to generate an informed response. As language models evolve to accommodate larger context windows, their integration with RAG systems holds the potential for significantly improved performance across various applications.\n",
      "\n",
      "## Million-Plus Token Context Windows\n",
      "\n",
      "Recent advancements in language model architecture have enabled the development of models with million-plus token context windows. These models can process and generate text based on a significantly larger body of preceding text, enhancing their ability to maintain context over extended conversations or documents. This improvement in context window size is essential for applications requiring deep comprehension and continuity, such as legal document analysis or multi-turn dialogue systems.\n",
      "\n",
      "## Enhancements in RAG\n",
      "\n",
      "The integration of million-plus token context window language models with RAG systems offers several enhancements:\n",
      "\n",
      "1. **Improved Retrieval Precision:** With larger context windows, models can better understand the nuances of a query, leading to more precise retrieval of information from external sources.\n",
      "\n",
      "2. **Enhanced Contextual Relevance:** Larger context windows allow for greater contextual awareness, enabling the generation of responses that are more aligned with the user's intent and the context of the conversation or document.\n",
      "\n",
      "3. **Reduced Information Gap:** By leveraging extensive context, these models can bridge the information gap more effectively, minimizing the need for additional retrieval steps and producing more coherent outputs.\n",
      "\n",
      "## Applications\n",
      "\n",
      "The integration of large context window models in RAG systems is transforming several domains:\n",
      "\n",
      "- **Healthcare:** Enhanced models can provide more accurate and contextually relevant medical information, improving patient support and clinical decision-making.\n",
      "  \n",
      "- **Legal:** In the legal field, these models facilitate the analysis of complex legal texts, offering more precise case law retrieval and document summarization.\n",
      "\n",
      "- **Customer Support:** Businesses can improve their customer service by deploying systems that understand and respond to customer inquiries with greater accuracy and relevance.\n",
      "\n",
      "## Challenges\n",
      "\n",
      "Despite their potential, the deployment of million-plus token context window models in RAG systems poses challenges:\n",
      "\n",
      "- **Computational Resources:** The increased computational demand requires substantial resources, which can be a barrier for widespread adoption.\n",
      "\n",
      "- **Data Privacy:** Handling extensive context windows involves processing large amounts of personal or sensitive information, raising privacy concerns.\n",
      "\n",
      "## Conclusion\n",
      "\n",
      "The advent of million-plus token context window language models represents a significant leap forward in NLP capabilities. Their integration with RAG systems is poised to enhance the performance and applicability of these technologies across diverse sectors. While challenges remain, the potential benefits underscore the importance of continued research and development in this area.\n",
      "\n",
      "---\n",
      "\n",
      "## References\n",
      "\n",
      "[1] Brown, T. B., et al. (2020). \"Language Models are Few-Shot Learners.\" [https://arxiv.org/abs/2005.14165](https://arxiv.org/abs/2005.14165)\n",
      "\n",
      "[2] Lewis, P., et al. (2020). \"Retrieval-Augmented Generation for Knowledge-Intensive NLP Tasks.\" [https://arxiv.org/abs/2005.11401](https://arxiv.org/abs/2005.11401)"
     ]
    }
   ],
   "source": [
    "for tok in writer.stream({\"topic\": example_topic, \"draft\": section.as_str}):\n",
    "    print(tok, end=\"\")"
   ]
  },
  {
   "cell_type": "markdown",
   "metadata": {},
   "source": [
    "#### Final Flow\n",
    "\n",
    "Now it's time to string everything together. We will have 6 main stages in sequence: .\n",
    "\n",
    "1. Generate the initial outline + perspectives\n",
    "2. Batch converse with each perspective to expand the content for the article\n",
    "3. Refine the outline based on the conversations\n",
    "4. Index the reference docs from the conversations\n",
    "5. Write the individual sections of the article\n",
    "6. Write the final wiki\n",
    "\n",
    "The state tracks the outputs of each stage."
   ]
  },
  {
   "cell_type": "code",
   "execution_count": 118,
   "metadata": {},
   "outputs": [],
   "source": [
    "class ResearchState(TypedDict):\n",
    "    topic: str\n",
    "    outline: Outline\n",
    "    editors: List[Editor]\n",
    "    interview_results: List[InterviewState]\n",
    "    # The final sections output\n",
    "    sections: List[WikiSection]\n",
    "    article: str"
   ]
  },
  {
   "cell_type": "code",
   "execution_count": 119,
   "metadata": {},
   "outputs": [],
   "source": [
    "import asyncio \n",
    "\n",
    "async def initialize_research(state: ResearchState):\n",
    "    topic = state[\"topic\"]\n",
    "    coros = (\n",
    "        generate_outline_direct.ainvoke({\"topic\": topic}),\n",
    "        survey_subjects.ainvoke(topic)\n",
    "    )\n",
    "    results = await asyncio.gather(*coros)\n",
    "    return {\n",
    "        **state,\n",
    "        \"outline\": results[0],\n",
    "        \"editors\": results[1].editors,\n",
    "    }\n",
    "    \n",
    "async def conduct_interviews(state: ResearchState):\n",
    "    topic = state[\"topic\"]\n",
    "    initial_state = [\n",
    "        {\n",
    "            \"editor\": editor,\n",
    "            \"messages\": [\n",
    "                AIMessage(\n",
    "                    content=f\"So you said you were writing an article on {topic}?\",\n",
    "                    name=\"Subject_Matter_Expert\",\n",
    "                )\n",
    "            ],\n",
    "        }\n",
    "        for editor in state[\"editors\"]\n",
    "    ]\n",
    "    # We call in to the sub-graph to parallelize the interviews\n",
    "    interview_results = await interview_graph.abatch(initial_state)\n",
    "    \n",
    "    return {\n",
    "        **state,\n",
    "        \"interview_results\": interview_results,\n",
    "    }\n",
    "\n",
    "def format_conversation(interview_state):\n",
    "    messages = interview_state[\"messages\"]\n",
    "    convo = \"\\n\".join(f\"{m.name}: {m.content}\" for m in messages)\n",
    "    return f'Conversation with {interview_state[\"editor\"].name}\\n\\n' + convo\n",
    "\n",
    "async def refine_outline(state: ResearchState):\n",
    "    convos = \"\\n\\n\".join(\n",
    "        [\n",
    "            format_conversation(interview_state)\n",
    "            for interview_state in state[\"interview_results\"]\n",
    "        ]\n",
    "    )\n",
    "\n",
    "    updated_outline = await refine_outline_chain.ainvoke(\n",
    "        {\n",
    "            \"topic\": state[\"topic\"],\n",
    "            \"old_outline\": state[\"outline\"].as_str,\n",
    "            \"conversations\": convos,\n",
    "        }\n",
    "    )\n",
    "    return {**state, \"outline\": updated_outline}\n",
    "\n",
    "\n",
    "async def index_references(state: ResearchState):\n",
    "    all_docs = []\n",
    "    for interview_state in state[\"interview_results\"]:\n",
    "        reference_docs = [\n",
    "            Document(page_content=v, metadata={\"source\": k})\n",
    "            for k, v in interview_state[\"references\"].items()\n",
    "        ]\n",
    "        all_docs.extend(reference_docs)\n",
    "    await vectorstore.aadd_documents(all_docs)\n",
    "    return state\n",
    "\n",
    "\n",
    "async def write_sections(state: ResearchState):\n",
    "    outline = state[\"outline\"]\n",
    "    sections = await section_writer.abatch(\n",
    "        [\n",
    "            {\n",
    "                \"outline\": refined_outline.as_str,\n",
    "                \"section\": section.section_title,\n",
    "                \"topic\": state[\"topic\"],\n",
    "            }\n",
    "            for section in outline.sections\n",
    "        ]\n",
    "    )\n",
    "    return {\n",
    "        **state,\n",
    "        \"sections\": sections,\n",
    "    }\n",
    "\n",
    "\n",
    "async def write_article(state: ResearchState):\n",
    "    topic = state[\"topic\"]\n",
    "    sections = state[\"sections\"]\n",
    "    draft = \"\\n\\n\".join([section.as_str for section in sections])\n",
    "    article = await writer.ainvoke({\"topic\": topic, \"draft\": draft})\n",
    "    return {\n",
    "        **state,\n",
    "        \"article\": article,\n",
    "    }"
   ]
  },
  {
   "cell_type": "code",
   "execution_count": 120,
   "metadata": {},
   "outputs": [],
   "source": [
    "from langgraph.checkpoint.memory import MemorySaver\n",
    "\n",
    "builder_of_storm = StateGraph(ResearchState)\n",
    "\n",
    "nodes = [\n",
    "    (\"init_research\", initialize_research),\n",
    "    (\"conduct_interviews\", conduct_interviews),\n",
    "    (\"refine_outline\", refine_outline),\n",
    "    (\"index_references\", index_references),\n",
    "    (\"write_sections\", write_sections),\n",
    "    (\"write_article\", write_article),\n",
    "]\n",
    "for i in range(len(nodes)):\n",
    "    name, node = nodes[i]\n",
    "    builder_of_storm.add_node(name, node, retry=RetryPolicy(max_attempts=3))\n",
    "    if i > 0:\n",
    "        builder_of_storm.add_edge(nodes[i - 1][0], name)\n",
    "\n",
    "builder_of_storm.add_edge(START, nodes[0][0])\n",
    "builder_of_storm.add_edge(nodes[-1][0], END)\n",
    "storm = builder_of_storm.compile(checkpointer=MemorySaver())"
   ]
  },
  {
   "cell_type": "code",
   "execution_count": 121,
   "metadata": {},
   "outputs": [
    {
     "data": {
      "image/jpeg": "[encoded data removed]",
      "text/plain": [
       "<IPython.core.display.Image object>"
      ]
     },
     "metadata": {},
     "output_type": "display_data"
    }
   ],
   "source": [
    "from IPython.display import Image, display\n",
    "\n",
    "try:\n",
    "    display(Image(storm.get_graph().draw_mermaid_png()))\n",
    "except Exception:\n",
    "    # This requires some extra dependencies and is optional\n",
    "    pass"
   ]
  },
  {
   "cell_type": "code",
   "execution_count": 122,
   "metadata": {},
   "outputs": [
    {
     "name": "stdout",
     "output_type": "stream",
     "text": [
      "init_research\n",
      "--  {'topic': 'Groq, NVIDIA, Llamma.cpp and the future of LLM Inference', 'outline': Outline(page_title='Groq, NVIDIA, Llamma.cpp and the Future of LLM Inference', sections=[Section(section_title='Introduction', description='An overview of Large Language Models (LLMs) and their significance in artificia\n",
      "conduct_interviews\n",
      "--  {'topic': 'Groq, NVIDIA, Llamma.cpp and the future of LLM Inference', 'outline': Outline(page_title='Groq, NVIDIA, Llamma.cpp and the Future of LLM Inference', sections=[Section(section_title='Introduction', description='An overview of Large Language Models (LLMs) and their significance in artificia\n",
      "refine_outline\n",
      "--  {'topic': 'Groq, NVIDIA, Llamma.cpp and the future of LLM Inference', 'outline': Outline(page_title='Groq, NVIDIA, Llamma.cpp and the Future of LLM Inference', sections=[Section(section_title='Introduction', description='An overview of Large Language Models (LLMs) and their significance in artificia\n",
      "index_references\n",
      "--  {'topic': 'Groq, NVIDIA, Llamma.cpp and the future of LLM Inference', 'outline': Outline(page_title='Groq, NVIDIA, Llamma.cpp and the Future of LLM Inference', sections=[Section(section_title='Introduction', description='An overview of Large Language Models (LLMs) and their significance in artificia\n",
      "write_sections\n",
      "--  {'topic': 'Groq, NVIDIA, Llamma.cpp and the future of LLM Inference', 'outline': Outline(page_title='Groq, NVIDIA, Llamma.cpp and the Future of LLM Inference', sections=[Section(section_title='Introduction', description='An overview of Large Language Models (LLMs) and their significance in artificia\n",
      "write_article\n",
      "--  {'topic': 'Groq, NVIDIA, Llamma.cpp and the future of LLM Inference', 'outline': Outline(page_title='Groq, NVIDIA, Llamma.cpp and the Future of LLM Inference', sections=[Section(section_title='Introduction', description='An overview of Large Language Models (LLMs) and their significance in artificia\n"
     ]
    }
   ],
   "source": [
    "config = {\"configurable\": {\"thread_id\": \"my-thread\"}}\n",
    "async for step in storm.astream(\n",
    "    {\n",
    "        \"topic\": \"Groq, NVIDIA, Llamma.cpp and the future of LLM Inference\",\n",
    "    },\n",
    "    config=config,\n",
    "):\n",
    "    name = next(iter(step))\n",
    "    print(name)\n",
    "    print(\"-- \", str(step[name])[:300])"
   ]
  },
  {
   "cell_type": "code",
   "execution_count": 123,
   "metadata": {},
   "outputs": [],
   "source": [
    "checkpoint = storm.get_state(config)\n",
    "article = checkpoint.values[\"article\"]\n"
   ]
  },
  {
   "cell_type": "code",
   "execution_count": 124,
   "metadata": {},
   "outputs": [
    {
     "data": {
      "text/markdown": [
       "## Million-Plus Token Context Window Language Models\n",
       "\n",
       "#### Introduction\n",
       "\n",
       "The advent of language models capable of processing million-plus token context windows marks a significant leap forward in the field of natural language processing (NLP). These cutting-edge models have the potential to transform retrieval-augmented generation (RAG) systems, which are pivotal in enhancing the quality and accuracy of generated responses by integrating retrieval mechanisms with generative capabilities. Traditionally, language models have been constrained by limited context windows, often processing only a few thousand tokens at a time. This limitation has posed challenges in maintaining coherence and context continuity, especially in complex and lengthy texts. However, with the introduction of models that can handle over a million tokens, there is a paradigm shift in how information is processed and generated. These models can retain extensive contextual information, making them particularly valuable in applications requiring detailed comprehension and synthesis of large datasets.\n",
       "\n",
       "#### Impact on RAG Systems\n",
       "\n",
       "The advent of language models with million-plus token context windows significantly enhances the capabilities of Retrieval-Augmented Generation (RAG) systems. Traditionally, RAG frameworks have been constrained by the limited context size of language models, which often resulted in fragmented understanding and inadequate information synthesis. However, with the development of models capable of processing extensive context windows, RAG systems can now achieve a more comprehensive semantic understanding of the input data. This advancement facilitates more coherent and contextually aware responses, as the models can incorporate and consider a broader scope of information during generation.\n",
       "\n",
       "##### Enhanced Contextual Analysis\n",
       "\n",
       "With expanded context windows, RAG systems can perform more sophisticated contextual analysis. The increased token capacity allows the system to maintain higher levels of coherence and relevance in generated outputs, as it can access and utilize a wider range of contextual cues from the input data.\n",
       "\n",
       "##### Improved Information Retrieval\n",
       "\n",
       "The integration of million-plus token models in RAG systems also enhances information retrieval capabilities. By handling larger contexts, these systems can better match queries with relevant information, leading to more precise and useful responses. The broader context window enables the system to discern nuanced relationships between different pieces of information within a larger dataset.\n",
       "\n",
       "##### Efficiency in Handling Complex Queries\n",
       "\n",
       "These advanced models improve the efficiency of RAG systems in managing complex queries that require understanding and synthesizing vast amounts of data. The ability to process extensive context windows means that RAG systems can deliver accurate and insightful responses without the need for excessive computational overhead typically associated with multiple retrieval and generation cycles.\n",
       "\n",
       "#### Groq's Contribution to Million-Plus Token Context Window Language Models\n",
       "\n",
       "Groq has emerged as a significant player in the AI industry, particularly with its innovative Language Processing Unit (LPU) technology. This advancement plays a crucial role in enhancing the performance of language models with million-plus token context windows, which are pivotal in improving retrieval-augmented generation (RAG) systems. Groq's LPU Inference Engine is specifically designed to handle the demands of large-scale language models, offering high efficiency and low latency that are essential for processing extensive context windows effectively. By utilizing on-chip SRAM and circumventing the typical overheads associated with general-purpose CPUs, Groq's systems can achieve exceptional performance metrics, including leading inference speeds as demonstrated in models like the Mixtral 8x7B and Llama 2 70B[1][2]. These capabilities make Groq's technology particularly suited for the challenges posed by the increased token context windows, providing vital support for the next generation of RAG systems that require fast and efficient processing of vast amounts of data.\n",
       "\n",
       "#### Comparative Analysis of Groq, NVIDIA, and Llamma.cpp\n",
       "\n",
       "This section provides a comparative analysis of Groq, NVIDIA, and Llamma.cpp in terms of their performance and efficiency in handling large language model (LLM) inference, particularly focusing on the context of million-plus token windows.\n",
       "\n",
       "##### Groq\n",
       "\n",
       "Groq's Language Processing Unit (LPU) has been designed to optimize AI inference by eliminating general-purpose CPU overheads and minimizing memory limitations. Unlike traditional AI GPUs from NVIDIA and AMD, Groq employs on-chip SRAM to achieve remarkable processing efficiency, which has been demonstrated in various benchmarks[3]. The Groq LPU excels in low-latency processing and has achieved leading inference numbers in the industry, such as serving the Mixtral 8x7B model at 480 tokens per second and accommodating models like Llama 2 70B with a 4096 token context length[4].\n",
       "\n",
       "##### NVIDIA\n",
       "\n",
       "NVIDIA, known for its cutting-edge GPU technology, provides robust solutions for LLM inference. Its GPUs are widely used across the industry due to their high throughput and parallel processing capabilities. NVIDIA's architecture supports a broad range of models and is renowned for its versatility and support for large-scale computations. However, the traditional reliance on external memory can pose challenges in managing the extensive data associated with million-plus token context windows, potentially affecting latency and efficiency compared to more specialized systems like Groq.\n",
       "\n",
       "##### Llamma.cpp\n",
       "\n",
       "Llamma.cpp, an open-source implementation, focuses on providing a lightweight and adaptable solution for LLM inference. While it may not match the high efficiency and performance metrics of dedicated hardware solutions like Groq and NVIDIA, Llamma.cpp offers flexibility and ease of integration, making it suitable for developers who require customizable and cost-effective solutions.\n",
       "\n",
       "#### Future Directions and Research Opportunities\n",
       "\n",
       "The future of language models with million-plus token context windows holds significant promise for further advancements in Retrieval-Augmented Generation (RAG) systems. As technology continues to evolve, several key trends are likely to shape the landscape of LLM inference and their integration with RAG frameworks.\n",
       "\n",
       "Firstly, ongoing improvements in computational efficiency will be paramount. Innovations such as those demonstrated by Groq's Language Processing Unit (LPU) are leading the charge in setting new benchmarks for processing efficiency, allowing for faster and more effective handling of extensive token contexts[5]. This trend is expected to continue, with further enhancements in hardware and software optimization reducing computational overheads and increasing throughput.\n",
       "\n",
       "Moreover, the integration of multi-modal data into RAG systems is anticipated to open new avenues for research. By leveraging data from various sources such as text, images, and audio, these systems can provide more comprehensive and nuanced outputs, expanding their applicability across industries.\n",
       "\n",
       "#### Conclusion\n",
       "\n",
       "The advent of language models capable of processing over a million tokens within a single context window marks a significant milestone in the evolution of natural language processing technologies. These advanced models have fundamentally reshaped the landscape of retrieval-augmented generation (RAG) systems by significantly enhancing their efficiency and effectiveness. By enabling the incorporation of vast amounts of contextual information, these models improve the coherence and relevance of generated content. However, these advancements are not without challenges, as they demand greater computational resources and pose potential risks related to biases and data handling. Despite these hurdles, the potential applications of such enhanced RAG systems in fields like healthcare, legal, education, and customer service are vast and promising. Looking ahead, continued research and innovation will further unlock the capabilities of these models, paving the way for more sophisticated and integrated language processing solutions.\n",
       "\n",
       "### References\n",
       "\n",
       "[1] Groq LPU based systems provide very low latencies for LLM inference processing. Unlike AI GPU's from Nvidia and AMD, Groq uses on-chip SRAM, with 14GB of high bandwidth memory. [Link](https://www.groq.com)\n",
       "\n",
       "[2] Groq achieves remarkable performance and efficiency for AI inference by avoiding general-purpose CPU overheads and memory limitations. [Link](https://www.groq.com/technology)\n",
       "\n",
       "[3] Groq's LPU Inference Engine, a dedicated Language Processing Unit, has set a new record in processing efficiency for large language models. [Link](https://www.groq.com/performance)\n",
       "\n",
       "[4] Serving the Mixtral 8x7B model at 480 tokens per second, the Groq LPU is providing one of the leading inference numbers in the industry. [Link](https://www.groq.com/benchmarks)\n",
       "\n",
       "[5] All of this is working together to provide Groq with a fantastic performance, making waves over the past few days on the internet. [Link](https://www.groq.com/news)"
      ],
      "text/plain": [
       "<IPython.core.display.Markdown object>"
      ]
     },
     "execution_count": 124,
     "metadata": {},
     "output_type": "execute_result"
    }
   ],
   "source": [
    "from IPython.display import Markdown\n",
    "\n",
    "# We will down-header the sections to create less confusion in this notebook\n",
    "Markdown(article.replace(\"\\n#\", \"\\n##\"))"
   ]
  },
  {
   "cell_type": "markdown",
   "metadata": {},
   "source": []
  }
 ],
 "metadata": {
  "kernelspec": {
   "display_name": "langgraph",
   "language": "python",
   "name": "python3"
  },
  "language_info": {
   "codemirror_mode": {
    "name": "ipython",
    "version": 3
   },
   "file_extension": ".py",
   "mimetype": "text/x-python",
   "name": "python",
   "nbconvert_exporter": "python",
   "pygments_lexer": "ipython3",
   "version": "3.12.4"
  }
 },
 "nbformat": 4,
 "nbformat_minor": 2
}
