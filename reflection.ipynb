{
 "cells": [
  {
   "cell_type": "code",
   "execution_count": 4,
   "metadata": {},
   "outputs": [
    {
     "name": "stdout",
     "output_type": "stream",
     "text": [
      "Collecting qiskit-aer\n",
      "  Downloading qiskit_aer-0.15.0-cp312-cp312-macosx_11_0_arm64.whl.metadata (8.0 kB)\n",
      "Requirement already satisfied: qiskit>=1.1.0 in /Users/admin/miniconda3/envs/langgraph/lib/python3.12/site-packages (from qiskit-aer) (1.2.0)\n",
      "Requirement already satisfied: numpy>=1.16.3 in /Users/admin/miniconda3/envs/langgraph/lib/python3.12/site-packages (from qiskit-aer) (1.26.4)\n",
      "Requirement already satisfied: scipy>=1.0 in /Users/admin/miniconda3/envs/langgraph/lib/python3.12/site-packages (from qiskit-aer) (1.14.0)\n",
      "Requirement already satisfied: psutil>=5 in /Users/admin/miniconda3/envs/langgraph/lib/python3.12/site-packages (from qiskit-aer) (6.0.0)\n",
      "Requirement already satisfied: rustworkx>=0.15.0 in /Users/admin/miniconda3/envs/langgraph/lib/python3.12/site-packages (from qiskit>=1.1.0->qiskit-aer) (0.15.1)\n",
      "Requirement already satisfied: sympy>=1.3 in /Users/admin/miniconda3/envs/langgraph/lib/python3.12/site-packages (from qiskit>=1.1.0->qiskit-aer) (1.13.1)\n",
      "Requirement already satisfied: dill>=0.3 in /Users/admin/miniconda3/envs/langgraph/lib/python3.12/site-packages (from qiskit>=1.1.0->qiskit-aer) (0.3.8)\n",
      "Requirement already satisfied: python-dateutil>=2.8.0 in /Users/admin/miniconda3/envs/langgraph/lib/python3.12/site-packages (from qiskit>=1.1.0->qiskit-aer) (2.9.0)\n",
      "Requirement already satisfied: stevedore>=3.0.0 in /Users/admin/miniconda3/envs/langgraph/lib/python3.12/site-packages (from qiskit>=1.1.0->qiskit-aer) (5.3.0)\n",
      "Requirement already satisfied: typing-extensions in /Users/admin/miniconda3/envs/langgraph/lib/python3.12/site-packages (from qiskit>=1.1.0->qiskit-aer) (4.12.2)\n",
      "Requirement already satisfied: symengine>=0.11 in /Users/admin/miniconda3/envs/langgraph/lib/python3.12/site-packages (from qiskit>=1.1.0->qiskit-aer) (0.11.0)\n",
      "Requirement already satisfied: six>=1.5 in /Users/admin/miniconda3/envs/langgraph/lib/python3.12/site-packages (from python-dateutil>=2.8.0->qiskit>=1.1.0->qiskit-aer) (1.16.0)\n",
      "Requirement already satisfied: pbr>=2.0.0 in /Users/admin/miniconda3/envs/langgraph/lib/python3.12/site-packages (from stevedore>=3.0.0->qiskit>=1.1.0->qiskit-aer) (6.1.0)\n",
      "Requirement already satisfied: mpmath<1.4,>=1.1.0 in /Users/admin/miniconda3/envs/langgraph/lib/python3.12/site-packages (from sympy>=1.3->qiskit>=1.1.0->qiskit-aer) (1.3.0)\n",
      "Downloading qiskit_aer-0.15.0-cp312-cp312-macosx_11_0_arm64.whl (2.2 MB)\n",
      "\u001b[2K   \u001b[90m━━━━━━━━━━━━━━━━━━━━━━━━━━━━━━━━━━━━━━━━\u001b[0m \u001b[32m2.2/2.2 MB\u001b[0m \u001b[31m8.9 MB/s\u001b[0m eta \u001b[36m0:00:00\u001b[0mta \u001b[36m0:00:01\u001b[0m\n",
      "\u001b[?25hInstalling collected packages: qiskit-aer\n",
      "Successfully installed qiskit-aer-0.15.0\n",
      "Note: you may need to restart the kernel to use updated packages.\n"
     ]
    }
   ],
   "source": [
    "%pip install qiskit-aer"
   ]
  },
  {
   "cell_type": "code",
   "execution_count": 14,
   "metadata": {},
   "outputs": [],
   "source": [
    "import os\n",
    "from dotenv import load_dotenv \n",
    "\n",
    "load_dotenv()\n",
    "\n",
    "os.environ['GROQ_API_KEY'] = os.getenv('GROQ_API_KEY')\n",
    "os.environ['LANGCHAIN_API_KEY'] = os.getenv('LANGCHAIN_API_KEY')\n",
    "os.environ[\"LANGCHAIN_TRACING_V2\"] = \"true\"\n",
    "os.environ['LANGCHAIN_PROJECT'] = \"Multi Agent Basics\"\n",
    "os.environ['TAVILY_API_KEY'] = os.getenv('TAVILY_API_KEY')\n",
    "os.environ['OPENAI_API_KEY'] = os.getenv('OPENAI_API_KEY')\n",
    "\n",
    "from langchain_groq import ChatGroq\n",
    "\n",
    "llm = ChatGroq(model=\"llama3-8b-8192\")"
   ]
  },
  {
   "cell_type": "code",
   "execution_count": 15,
   "metadata": {},
   "outputs": [],
   "source": [
    "from langchain_core.messages import AIMessage, BaseMessage, HumanMessage\n",
    "from langchain_core.prompts import ChatPromptTemplate, MessagesPlaceholder\n",
    "\n",
    "prompt = ChatPromptTemplate.from_messages(\n",
    "    [\n",
    "        (\n",
    "            \"system\",\n",
    "            \"You are an essay assistant tasked with writing excellent 5-paragraph essays.\"\n",
    "            \" Generate the best essay possible for the user's request.\"\n",
    "            \" If the user provides critique, respond with a revised version of your previous attempts.\",\n",
    "        ),\n",
    "        MessagesPlaceholder(variable_name=\"messages\"),\n",
    "    ]\n",
    ")\n",
    "generate = prompt | llm"
   ]
  },
  {
   "cell_type": "code",
   "execution_count": 16,
   "metadata": {},
   "outputs": [
    {
     "name": "stdout",
     "output_type": "stream",
     "text": [
      "The Little Prince, a novella written by Antoine de Saint-Exupéry, is a timeless tale that has captivated readers of all ages since its publication in 1943. The story of a young prince who travels from planet to planet, encountering various strange characters and learning valuable lessons along the way, has become a beloved classic around the world. In today's fast-paced and technology-driven world, The Little Prince is more relevant than ever in modern childhood, offering valuable insights and lessons that are essential for the development of young minds.\n",
      "\n",
      "One of the most significant reasons The Little Prince remains relevant in modern childhood is its exploration of themes that are highly relevant to contemporary children. The novella touches on issues such as the importance of human connections, the fleeting nature of material possessions, and the need for emotional intelligence. These themes are particularly relevant in today's society, where children are increasingly exposed to the pressures of social media, consumerism, and the need to fit in. The Little Prince's experiences and encounters serve as a reminder to children of the importance of building strong relationships and of cultivating emotional intelligence in order to navigate the complexities of life.\n",
      "\n",
      "Another reason The Little Prince is relevant in modern childhood is its ability to inspire children to think creatively and critically. The novella is a work of imagination that encourages children to question the world around them and to think outside the box. The Little Prince's encounters with strange and fantastical creatures, such as the rose and the fox, serve as a reminder to children that the world is full of possibilities and that their imaginations are the keys to unlocking them. In an era where standardized testing and rote memorization are increasingly prevalent, The Little Prince offers a refreshing alternative that celebrates creativity and imagination.\n",
      "\n",
      "Furthermore, The Little Prince is relevant in modern childhood due to its ability to transcend cultural and linguistic barriers. The novella has been translated into over 300 languages and has become a beloved classic around the world. This universality is a testament to the power of storytelling and the ability of The Little Prince to connect with children from all walks of life. In an era where global communication and collaboration are becoming increasingly important, The Little Prince serves as a reminder of the power of shared human experiences and the importance of building bridges between cultures.\n",
      "\n",
      "In conclusion, The Little Prince is a timeless tale that remains highly relevant in modern childhood. Its exploration of themes such as human connections, the importance of emotional intelligence, and the need for creativity and imagination make it a valuable tool for helping children navigate the complexities of the world around them. The novella's ability to transcend cultural and linguistic barriers and its capacity to inspire children to think creatively and critically also make it an essential part of any child's literary education. In an era where children are increasingly exposed to the pressures of modern society, The Little Prince offers a refreshing alternative that celebrates the beauty and wonder of childhood."
     ]
    }
   ],
   "source": [
    "essay = \"\"\n",
    "request = HumanMessage(\n",
    "    content=\"Write an essay on why the little prince is relevant in modern childhood\"\n",
    ")\n",
    "for chunk in generate.stream({\"messages\": [request]}):\n",
    "    print(chunk.content, end=\"\")\n",
    "    essay += chunk.content"
   ]
  },
  {
   "cell_type": "markdown",
   "metadata": {},
   "source": [
    "#### Reflect"
   ]
  },
  {
   "cell_type": "code",
   "execution_count": 17,
   "metadata": {},
   "outputs": [],
   "source": [
    "reflection_prompt = ChatPromptTemplate.from_messages(\n",
    "    [\n",
    "        (\"system\",\n",
    "         \"You are a teacher grading an essay submission. Generate critique and recomendations for the user's submission.\"\n",
    "         \" Provide detailed recommendations, including requests for length, depth, style, etc.\",\n",
    "         ),\n",
    "         MessagesPlaceholder(variable_name=\"messages\"),\n",
    "    ]\n",
    ")\n",
    "reflect = reflection_prompt | llm"
   ]
  },
  {
   "cell_type": "code",
   "execution_count": 18,
   "metadata": {},
   "outputs": [
    {
     "name": "stdout",
     "output_type": "stream",
     "text": [
      "Overall, your essay provides a good introduction to the relevance of The Little Prince in modern childhood. You effectively explore the themes of human connections, emotional intelligence, and creativity, and highlight the novella's ability to transcend cultural and linguistic barriers. However, there are some areas that could be improved to take your essay to the next level.\n",
      "\n",
      "Strengths:\n",
      "\n",
      "* Your introduction effectively sets the stage for the rest of the essay, providing a clear thesis statement and establishing the significance of The Little Prince.\n",
      "* Your analysis of the themes is thorough and well-supported, and you provide specific examples from the novella to illustrate your points.\n",
      "* Your conclusion effectively summarizes the main points and reiterates the importance of The Little Prince in modern childhood.\n",
      "\n",
      "Weaknesses:\n",
      "\n",
      "* The essay could benefit from more depth and complexity in its analysis. While you provide some good examples, the analysis is often superficial and could be expanded upon.\n",
      "* The transitions between paragraphs could be smoother, and some of the sentences could be rephrased for greater clarity and cohesion.\n",
      "* The essay could benefit from more attention to the subtleties of the novella. For example, you could explore the symbolism of the rose, the significance of the fox's words, or the ways in which the novella critiques modern society.\n",
      "\n",
      "Recommendations:\n",
      "\n",
      "* To add more depth and complexity to your analysis, consider exploring the ways in which The Little Prince critiques modern society. For example, you could discuss the novella's portrayal of consumerism, the effects of industrialization, or the consequences of prioritizing technology over human connections.\n",
      "* To improve the transitions between paragraphs, try to identify key words or phrases that connect the ideas between paragraphs. You could also use transitional phrases to guide the reader through your analysis.\n",
      "* To add more attention to the subtleties of the novella, consider incorporating more specific examples and analysis of the symbolism, imagery, and themes. For example, you could explore the ways in which the rose represents love, the fox represents wisdom, or the little prince's journey represents the human quest for meaning.\n",
      "* Finally, consider expanding the essay to explore the ways in which The Little Prince has been interpreted and reinterpreted over time. How has the novella been received by different cultures and audiences? What are some possible interpretations of the novella's themes and symbols?\n",
      "\n",
      "Length: The essay is a good length, but it could benefit from more detail and analysis. Aim for an essay that is around 5-7 pages long, with a clear and concise introduction, body, and conclusion.\n",
      "\n",
      "Style: The essay is written in a clear and concise style, but could benefit from more attention to sentence structure and grammar. Consider using more complex sentence structures and varied sentence lengths to create a more engaging and dynamic reading experience.\n",
      "\n",
      "Overall, your essay provides a good foundation for exploring the relevance of The Little Prince in modern childhood. With some revisions to address the areas mentioned above, your essay could be even stronger and more effective in making the case for the novella's enduring importance."
     ]
    }
   ],
   "source": [
    "reflection = \"\"\n",
    "for chunk in reflect.stream({\"messages\": [request, HumanMessage(content=essay)]}):\n",
    "    print(chunk.content, end=\"\")\n",
    "    reflection += chunk.content"
   ]
  },
  {
   "cell_type": "markdown",
   "metadata": {},
   "source": [
    "#### Graph"
   ]
  },
  {
   "cell_type": "code",
   "execution_count": 19,
   "metadata": {},
   "outputs": [],
   "source": [
    "from typing import Annotated, List, Sequence\n",
    "from langgraph.graph import END, StateGraph, START\n",
    "from langgraph.graph.message import add_messages\n",
    "from langgraph.checkpoint.memory import MemorySaver\n",
    "from typing_extensions import TypedDict\n",
    "\n",
    "class State(TypedDict):\n",
    "    messages: Annotated[list, add_messages]\n",
    "\n",
    "async def generation_node(state: State) -> State:\n",
    "    return {\"messages\": [await generate.ainvoke(state[\"messages\"])]}\n",
    "\n",
    "async def reflection_node(state: State) -> State:\n",
    "    cls_map = {\"ai\": HumanMessage, \"human\": AIMessage}\n",
    "    translated = [state[\"messages\"][0]] + [\n",
    "        cls_map[msg.type](content=msg.content) for msg in state[\"messages\"][1:]\n",
    "    ]\n",
    "    res = await reflect.ainvoke(translated)\n",
    "    return {\"messages\": [HumanMessage(content=res.content)]}\n",
    "\n",
    "builder = StateGraph(State)\n",
    "builder.add_node(\"generate\", generation_node)\n",
    "builder.add_node(\"reflect\", reflection_node)\n",
    "builder.add_edge(START, \"generate\")\n",
    "\n",
    "def should_continue(state: State):\n",
    "    if len(state[\"messages\"]) > 6:\n",
    "        return END\n",
    "    return \"reflect\"\n",
    "\n",
    "builder.add_conditional_edges(\"generate\", should_continue)\n",
    "builder.add_edge(\"reflect\", \"generate\")\n",
    "memory = MemorySaver()\n",
    "graph = builder.compile(checkpointer=memory)\n"
   ]
  },
  {
   "cell_type": "code",
   "execution_count": null,
   "metadata": {},
   "outputs": [],
   "source": [
    "config = {\"configurable\": {\"thread_id\": \"1\"}}\n",
    "\n",
    "async for event in graph.astream({\n",
    "    \"messages\": [\n",
    "        HumanMessage(\n",
    "            content=\"Generate an essay on the topicality of the Little Prince and its message in the moder world\"\n",
    "        )\n",
    "    ]\n",
    "}, config):\n",
    "    print(event)\n",
    "    print(\"-----\")"
   ]
  }
 ],
 "metadata": {
  "kernelspec": {
   "display_name": "langgraph",
   "language": "python",
   "name": "python3"
  },
  "language_info": {
   "codemirror_mode": {
    "name": "ipython",
    "version": 3
   },
   "file_extension": ".py",
   "mimetype": "text/x-python",
   "name": "python",
   "nbconvert_exporter": "python",
   "pygments_lexer": "ipython3",
   "version": "3.12.4"
  }
 },
 "nbformat": 4,
 "nbformat_minor": 2
}
