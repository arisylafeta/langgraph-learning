{
 "cells": [
  {
   "cell_type": "code",
   "execution_count": 28,
   "metadata": {},
   "outputs": [],
   "source": [
    "import os\n",
    "from dotenv import load_dotenv\n",
    "\n",
    "load_dotenv()\n",
    "os.environ['GROQ_API_KEY'] = os.getenv('GROQ_API_KEY')\n",
    "os.environ[\"LANGCHAIN_TRACING_V2\"] = \"true\"\n",
    "os.environ[\"LANGCHAIN_ENDPOINT\"] = \"https://api.smith.langchain.com\"\n",
    "os.environ[\"LANGCHAIN_API_KEY\"] = os.getenv(\"LANGCHAIN_API_KEY\")\n",
    "os.environ[\"LANGCHAIN_PROJECT\"] = \"Self RAG\"\n",
    "os.environ[\"OPENAI_API_KEY\"] = os.getenv(\"OPENAI_API_KEY\")\n",
    "os.environ['TAVILY_API_KEY'] = os.getenv('TAVILY_API_KEY')"
   ]
  },
  {
   "cell_type": "code",
   "execution_count": 22,
   "metadata": {},
   "outputs": [],
   "source": [
    "from langchain.text_splitter import RecursiveCharacterTextSplitter\n",
    "from langchain_community.document_loaders import WebBaseLoader\n",
    "from langchain_community.vectorstores import Chroma\n",
    "from langchain_ollama import OllamaEmbeddings\n",
    "\n",
    "urls = [\n",
    "    \"https://lilianweng.github.io/posts/2023-06-23-agent/\",\n",
    "    \"https://lilianweng.github.io/posts/2023-03-15-prompt-engineering/\",\n",
    "    \"https://lilianweng.github.io/posts/2023-10-25-adv-attack-llm/\",\n",
    "]\n",
    "docs = [WebBaseLoader(url).load() for url in urls]\n",
    "docs_list = [item for sublist in docs for item in sublist]\n",
    "splitter = RecursiveCharacterTextSplitter.from_tiktoken_encoder(\n",
    "    chunk_size=250, chunk_overlap=0\n",
    ")\n",
    "doc_splits = splitter.split_documents(docs_list)\n",
    "vectorstore = Chroma.from_documents(\n",
    "    documents=doc_splits,\n",
    "    collection_name=\"rag-chroma\",\n",
    "    embedding=OllamaEmbeddings(model=\"nomic-embed-text:latest\"),\n",
    ")\n",
    "retriever = vectorstore.as_retriever()"
   ]
  },
  {
   "cell_type": "code",
   "execution_count": 38,
   "metadata": {},
   "outputs": [
    {
     "data": {
      "text/plain": [
       "{'score': 'yes'}"
      ]
     },
     "execution_count": 38,
     "metadata": {},
     "output_type": "execute_result"
    }
   ],
   "source": [
    "#### Retrieval Grader\n",
    "\n",
    "from langchain.prompts import PromptTemplate\n",
    "from langchain_ollama import ChatOllama\n",
    "from langchain_core.output_parsers import JsonOutputParser\n",
    "from langchain_groq import ChatGroq\n",
    "from langchain_core.pydantic_v1 import BaseModel\n",
    "\n",
    "llm = ChatOllama(model=\"llama3.1:8b-instruct-q8_0\", format=\"json\", temperature=0)\n",
    "\n",
    "\n",
    "prompt = PromptTemplate(\n",
    "    template=\"\"\"You are a grader assessing relevance of a retrieved document to a user question. \\n \n",
    "    Here is the retrieved document: \\n\\n {document} \\n\\n\n",
    "    Here is the user question: {question} \\n\n",
    "    If the document contains keywords related to the user question, grade it as relevant. \\n\n",
    "    It does not need to be a stringent test. The goal is to filter out erroneous retrievals. \\n\n",
    "    Give a binary score 'yes' or 'no' score to indicate whether the document is relevant to the question. \\n\n",
    "    Provide the binary score as a JSON with a single key 'score' and no premable or explanation.\"\"\",\n",
    "    input_variables=[\"question\", \"document\"],\n",
    ")\n",
    "\n",
    "retrieval_grader = prompt | llm | JsonOutputParser()\n",
    "\n",
    "#### Test the retrieval grader\n",
    "question = \"agent memory\"\n",
    "docs = retriever.get_relevant_documents(question)\n",
    "doc_text = docs[1].page_content\n",
    "retrieval_grader.invoke({\"question\": question, \"document\": doc_text})"
   ]
  },
  {
   "cell_type": "code",
   "execution_count": 40,
   "metadata": {},
   "outputs": [
    {
     "name": "stdout",
     "output_type": "stream",
     "text": [
      "The context suggests that the agent has both short-term and long-term memory capabilities. Short-term memory is used for in-context learning and learning from external APIs, while long-term memory is used to retain and recall information over extended periods through an external vector store and fast retrieval.\n"
     ]
    }
   ],
   "source": [
    "### Generate \n",
    "\n",
    "from langchain import hub\n",
    "from langchain_core.output_parsers import StrOutputParser\n",
    "\n",
    "prompt = hub.pull(\"rlm/rag-prompt\")\n",
    "\n",
    "llm = ChatGroq(model=\"llama3-8b-8192\", temperature=0)\n",
    "\n",
    "#Post Processing\n",
    "def format_docs(docs):\n",
    "    return \"\\n\\n\".join(doc.page_content for doc in docs)\n",
    "\n",
    "rag_chain = prompt | llm | StrOutputParser()\n",
    "\n",
    "#Test\n",
    "generation = rag_chain.invoke({\"question\": question, \"context\": format_docs(docs)})\n",
    "print(generation)"
   ]
  },
  {
   "cell_type": "code",
   "execution_count": 41,
   "metadata": {},
   "outputs": [
    {
     "data": {
      "text/plain": [
       "{'score': 'yes'}"
      ]
     },
     "execution_count": 41,
     "metadata": {},
     "output_type": "execute_result"
    }
   ],
   "source": [
    "### Hallucination Grader\n",
    "\n",
    "#LLM\n",
    "llm = ChatOllama(model=\"llama3.1:8b-instruct-q8_0\", format=\"json\", temperature=0)\n",
    "\n",
    "prompt = PromptTemplate(\n",
    "        template=\"\"\"You are a grader assessing whether an answer is grounded in / supported by a set of facts. \\n \n",
    "    Here are the facts:\n",
    "    \\n ------- \\n\n",
    "    {documents} \n",
    "    \\n ------- \\n\n",
    "    Here is the answer: {generation}\n",
    "    Give a binary score 'yes' or 'no' score to indicate whether the answer is grounded in / supported by a set of facts. \\n\n",
    "    Provide the binary score as a JSON with a single key 'score' and no preamble or explanation.\"\"\",\n",
    "    input_variables=[\"generation\", \"documents\"],\n",
    ")\n",
    "\n",
    "hallucination_grader = prompt | llm | JsonOutputParser()\n",
    "\n",
    "#Test\n",
    "hallucination_grader.invoke({\"generation\": generation, \"documents\": format_docs(docs)})"
   ]
  },
  {
   "cell_type": "code",
   "execution_count": 43,
   "metadata": {},
   "outputs": [
    {
     "data": {
      "text/plain": [
       "{'score': 'yes'}"
      ]
     },
     "execution_count": 43,
     "metadata": {},
     "output_type": "execute_result"
    }
   ],
   "source": [
    "### Answer Grader\n",
    "\n",
    "llm = ChatOllama(model=\"llama3.1:8b-instruct-q8_0\", format=\"json\", temperature=0)\n",
    "\n",
    "prompt = PromptTemplate(\n",
    "    template=\"\"\"You are a grader assessing whether an answer is useful to resolve a question. \\n \n",
    "    Here is the answer:\n",
    "    \\n ------- \\n\n",
    "    {generation} \n",
    "    \\n ------- \\n\n",
    "    Here is the question: {question}\n",
    "    Give a binary score 'yes' or 'no' to indicate whether the answer is useful to resolve a question. \\n\n",
    "    Provide the binary score as a JSON with a single key 'score' and no preamble or explanation.\"\"\",\n",
    "    input_variables=[\"generation\", \"question\"],\n",
    ")\n",
    "\n",
    "answer_grader = prompt | llm | JsonOutputParser()\n",
    "answer_grader.invoke({\"question\": question, \"generation\": generation})"
   ]
  },
  {
   "cell_type": "code",
   "execution_count": 48,
   "metadata": {},
   "outputs": [
    {
     "data": {
      "text/plain": [
       "'\"Retrieve information related to the concept of \\'agent memory\\'.\"'"
      ]
     },
     "execution_count": 48,
     "metadata": {},
     "output_type": "execute_result"
    }
   ],
   "source": [
    "### Question Re-writer\n",
    "\n",
    "llm = ChatGroq(model=\"llama3-8b-8192\", temperature=0)\n",
    "\n",
    "# Prompt\n",
    "re_write_prompt = PromptTemplate(\n",
    "    template=\"\"\"You a question re-writer that converts an input question to a better version that is optimized \\n \n",
    "     for vectorstore retrieval. Look at the initial and formulate an improved question. \\n\n",
    "     Here is the initial question: \\n\\n {question}. Don't write anything aside from the rewritten question: \\n \"\"\",\n",
    "    input_variables=[\"generation\", \"question\"],\n",
    ")\n",
    "\n",
    "question_rewriter = re_write_prompt | llm | StrOutputParser()\n",
    "\n",
    "#Test\n",
    "question_rewriter.invoke({\"question\": question})"
   ]
  },
  {
   "cell_type": "code",
   "execution_count": 49,
   "metadata": {},
   "outputs": [],
   "source": [
    "from typing import List\n",
    "from typing_extensions import TypedDict\n",
    "\n",
    "class GraphState(TypedDict):\n",
    "    \"\"\"Represents the state of the graph\"\"\"\n",
    "    question: str\n",
    "    documents: List[str]\n",
    "    generation: str"
   ]
  },
  {
   "cell_type": "code",
   "execution_count": 50,
   "metadata": {},
   "outputs": [],
   "source": [
    "### Nodes\n",
    "\n",
    "def retrieve(state):\n",
    "    \"\"\"Retrieve documents relevant to the question\"\"\"\n",
    "    print(\"--RETRIEVE--\")\n",
    "    question = state[\"question\"]\n",
    "    documents = retriever.get_relevant_documents(question)\n",
    "\n",
    "    return {\"documents\": documents, \"question\": question}\n",
    "\n",
    "def generate(state):\n",
    "    \"\"\"Generate an answer to the question\"\"\"\n",
    "    print(\"--GENERATE--\")\n",
    "    question = state[\"question\"]\n",
    "    docs = state[\"documents\"]\n",
    "    generation = rag_chain.invoke({\"question\": question, \"context\": format_docs(docs)})\n",
    "\n",
    "    return {\"generation\": generation, \"documents\": docs, \"question\": question}\n",
    "\n",
    "def grade_documents(state):\n",
    "    \"\"\"Grade documents retrieved for relevance to the question\"\"\"\n",
    "    print(\"--GRADE DOCUMENTS--\")\n",
    "    question = state[\"question\"]\n",
    "    docs = state[\"documents\"]\n",
    "\n",
    "    filtered_docs = [] \n",
    "    for doc in docs:\n",
    "        doc_text = doc.page_content\n",
    "        result = retrieval_grader.invoke({\"question\": question, \"document\": doc_text})\n",
    "        grade = result[\"score\"]\n",
    "        if grade == \"yes\":\n",
    "            print(\"--GRADE DOCUMENT: IS RELEVANT--\")\n",
    "            filtered_docs.append(doc)\n",
    "        else:\n",
    "            print(\"--GRADE DOCUMENT: NOT RELEVANT--\")\n",
    "            continue\n",
    "\n",
    "    return {\"documents\": filtered_docs, \"question\": question}\n",
    "\n",
    "def transform_query(state):\n",
    "    \"\"\"Rewrite the question to improve retrieval\"\"\"\n",
    "    print(\"--TRANSFORM QUERY--\")\n",
    "    question = state[\"question\"]\n",
    "    documents = state[\"documents\"]\n",
    "    new_question = question_rewriter.invoke({\"question\": question})\n",
    "\n",
    "    return {\"question\": new_question, \"documents\": documents}\n",
    "\n",
    "### Edge\n",
    "\n",
    "def decide_to_generate(state):\n",
    "    \"\"\"Decide whether to generate an answer\"\"\"\n",
    "    print(\"--ASSESS GRADED DOCUMENTS--\")\n",
    "    question = state[\"question\"]\n",
    "    docs = state[\"documents\"]\n",
    "\n",
    "    if not docs:\n",
    "        print(\"--ASSESS GRADED DOCUMENTS: TRANSFORM QUERY--\")\n",
    "        return \"transform_query\"\n",
    "    else:\n",
    "        print(\"--ASSESS GRADED DOCUMENTS: GENERATE--\")\n",
    "        return \"generate\"\n",
    "\n",
    "def grade_generation_v_documents_and_question(state):\n",
    "    \"\"\"Grade the generation against the documents and question\"\"\"\n",
    "    print(\"--GRADE GENERATION--\")\n",
    "    question = state[\"question\"]\n",
    "    docs = state[\"documents\"]\n",
    "    generation = state[\"generation\"]\n",
    "\n",
    "    result = hallucination_grader.invoke({\"generation\": generation, \"documents\": format_docs(docs)})\n",
    "    grade = result[\"score\"]\n",
    "    if grade == \"yes\":\n",
    "        print(\"--GRADE GENERATION: IS GROUNDED--\")\n",
    "        print(\"--GRADE GENERATION: ASSESS ANSWER--\")\n",
    "        score = answer_grader.invoke({\"generation\": generation, \"question\": question})\n",
    "        grade = score[\"score\"]\n",
    "        if grade == \"yes\":\n",
    "            print(\"--GRADE GENERATION: IS USEFUL--\")\n",
    "            return \"useful\"\n",
    "        else:\n",
    "            print(\"--GRADE GENERATION: NOT USEFUL--\")\n",
    "            return \"not_useful\"\n",
    "    else: \n",
    "        print(\"--GRADE GENERATION: NOT GROUNDED--\")\n",
    "        return \"not_supported\""
   ]
  },
  {
   "cell_type": "code",
   "execution_count": 52,
   "metadata": {},
   "outputs": [],
   "source": [
    "from langgraph.graph import END, START, StateGraph\n",
    "\n",
    "graph = StateGraph(GraphState)\n",
    "\n",
    "# Add nodes\n",
    "graph.add_node(\"retrieve\", retrieve)\n",
    "graph.add_node(\"generate\", generate)\n",
    "graph.add_node(\"grade_documents\", grade_documents)\n",
    "graph.add_node(\"transform_query\", transform_query)\n",
    "\n",
    "# Add edges\n",
    "graph.add_edge(START, \"retrieve\")\n",
    "graph.add_edge(\"retrieve\", \"grade_documents\")\n",
    "graph.add_conditional_edges(\n",
    "    \"grade_documents\",\n",
    "    decide_to_generate,\n",
    "    {\n",
    "        \"transform_query\": \"transform_query\",\n",
    "        \"generate\": \"generate\",\n",
    "    },\n",
    ")\n",
    "graph.add_edge(\"transform_query\", \"retrieve\")\n",
    "graph.add_conditional_edges(\n",
    "    \"generate\",\n",
    "    grade_generation_v_documents_and_question,\n",
    "    {\n",
    "        \"useful\": END,\n",
    "        \"not_useful\": \"transform_query\",\n",
    "        \"not_supported\": \"generate\",\n",
    "    },\n",
    ")\n",
    "app = graph.compile()"
   ]
  },
  {
   "cell_type": "code",
   "execution_count": 55,
   "metadata": {},
   "outputs": [
    {
     "name": "stdout",
     "output_type": "stream",
     "text": [
      "--RETRIEVE--\n",
      "\"Node 'retrieve':\"\n",
      "'\\n---\\n'\n",
      "--GRADE DOCUMENTS--\n",
      "--GRADE DOCUMENT: NOT RELEVANT--\n",
      "--GRADE DOCUMENT: NOT RELEVANT--\n",
      "--GRADE DOCUMENT: IS RELEVANT--\n",
      "--GRADE DOCUMENT: IS RELEVANT--\n",
      "--ASSESS GRADED DOCUMENTS--\n",
      "--ASSESS GRADED DOCUMENTS: GENERATE--\n",
      "\"Node 'grade_documents':\"\n",
      "'\\n---\\n'\n",
      "--GENERATE--\n",
      "--GRADE GENERATION--\n",
      "--GRADE GENERATION: IS GROUNDED--\n",
      "--GRADE GENERATION: ASSESS ANSWER--\n",
      "--GRADE GENERATION: IS USEFUL--\n",
      "\"Node 'generate':\"\n",
      "'\\n---\\n'\n",
      "('According to the provided context, the Component Two of the Agent System '\n",
      " 'Overview discusses the different types of memory, which includes Maximum '\n",
      " 'Inner Product Search (MIPS).')\n"
     ]
    }
   ],
   "source": [
    "from pprint import pprint\n",
    "\n",
    "inputs = {\"question\": \"Explain how the different types of agent memory work?\"}\n",
    "for output in app.stream(inputs):\n",
    "    for key, value in output.items():\n",
    "        pprint(f\"Node '{key}':\")\n",
    "    pprint(\"\\n---\\n\")\n",
    "\n",
    "pprint(value[\"generation\"])"
   ]
  }
 ],
 "metadata": {
  "kernelspec": {
   "display_name": "langgraph",
   "language": "python",
   "name": "python3"
  },
  "language_info": {
   "codemirror_mode": {
    "name": "ipython",
    "version": 3
   },
   "file_extension": ".py",
   "mimetype": "text/x-python",
   "name": "python",
   "nbconvert_exporter": "python",
   "pygments_lexer": "ipython3",
   "version": "3.12.4"
  }
 },
 "nbformat": 4,
 "nbformat_minor": 2
}
